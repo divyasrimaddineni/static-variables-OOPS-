{
 "cells": [
  {
   "cell_type": "markdown",
   "metadata": {},
   "source": [
    "# Variables:"
   ]
  },
  {
   "cell_type": "code",
   "execution_count": null,
   "metadata": {},
   "outputs": [],
   "source": [
    "which is used to hold the data temporarily are Variables."
   ]
  },
  {
   "cell_type": "markdown",
   "metadata": {},
   "source": [
    "# Types of variables:"
   ]
  },
  {
   "cell_type": "code",
   "execution_count": null,
   "metadata": {},
   "outputs": [],
   "source": [
    "1)Instance variables(Object level variables)\n",
    "2)Static variables(Class level variables)\n",
    "3)Local variables(Method level variables) "
   ]
  },
  {
   "cell_type": "markdown",
   "metadata": {},
   "source": [
    "## 1)Instance(Object level variables):"
   ]
  },
  {
   "cell_type": "code",
   "execution_count": null,
   "metadata": {},
   "outputs": [],
   "source": [
    "The variable value varies from object to object, then it is called as Instance/Object level variables\n",
    "*For each and every object there will be a seperate copy of instance variables created.\n",
    "\n",
    "Instance variables are created at the time of object creation and will be destroyed when it goes for Garbage collection.\n",
    "\n",
    "we can declare in 3 different ways:\n",
    "a. Inside constructor by using Self variable \n",
    "b. Inside instance method by using self variable\n",
    "c. Outside of the class by using object reference variable\n",
    "\n",
    "We can also delete instance variables:-\n",
    "Within the class ( del self.variablename )\n",
    "Outside the class ( del objectname.variablename )\n",
    "\n"
   ]
  },
  {
   "cell_type": "markdown",
   "metadata": {},
   "source": [
    "##  __dict__"
   ]
  },
  {
   "cell_type": "code",
   "execution_count": null,
   "metadata": {},
   "outputs": [],
   "source": [
    "We use __dict__ to know the instance variables and their corresponding values of an object. \n",
    "__dict__  returns values in a dictionary format.\n",
    "syntax:\n",
    "    print(objectreferencevariable.__dict__)\n"
   ]
  },
  {
   "cell_type": "code",
   "execution_count": 1,
   "metadata": {},
   "outputs": [
    {
     "name": "stdout",
     "output_type": "stream",
     "text": [
      "{'name': 'divya', 'age': 21, 'marks': 100}\n"
     ]
    }
   ],
   "source": [
    "class student:\n",
    "    '''This is the class of student details'''\n",
    "    def __init__(self): #__init__ method calls itself\n",
    "        self.name=\"divya\" #instance variable\n",
    "        self.age=21\n",
    "        self.marks=100\n",
    "    def details(self): # instance method\n",
    "        print(\"Hii iam:\",self.name)\n",
    "        print(\"my age is:\",self.age)\n",
    "        print(\"my marks are:\",self.marks)\n",
    "        \n",
    "x=student()\n",
    "print(x.__dict__)"
   ]
  },
  {
   "cell_type": "markdown",
   "metadata": {},
   "source": [
    "### a. Inside constructor by using Self variable"
   ]
  },
  {
   "cell_type": "code",
   "execution_count": 29,
   "metadata": {},
   "outputs": [
    {
     "name": "stdout",
     "output_type": "stream",
     "text": [
      "{'eno': 100, 'ename': 'divya'}\n"
     ]
    }
   ],
   "source": [
    "class Employee:\n",
    "    def __init__(self):\n",
    "        self.eno=100 #instance variable\n",
    "        self.ename=\"divya\" #instance variable\n",
    "        \n",
    "e=Employee() # object reference variable\n",
    "print(e.__dict__)"
   ]
  },
  {
   "cell_type": "code",
   "execution_count": 26,
   "metadata": {},
   "outputs": [
    {
     "name": "stdout",
     "output_type": "stream",
     "text": [
      "<__main__.Employee object at 0x00000202A2189948>\n"
     ]
    }
   ],
   "source": [
    "class Employee:\n",
    "    def __init__(self):\n",
    "        self.eno=100 #instance variable\n",
    "        self.ename=\"divya\" #instance variable\n",
    "        \n",
    "e=Employee() # object reference variable\n",
    "print(e)"
   ]
  },
  {
   "cell_type": "markdown",
   "metadata": {},
   "source": [
    "### b. Inside instance method by using self variable"
   ]
  },
  {
   "cell_type": "code",
   "execution_count": 31,
   "metadata": {},
   "outputs": [
    {
     "name": "stdout",
     "output_type": "stream",
     "text": [
      "{'a': 10, 'b': 20, 'c': 30}\n"
     ]
    }
   ],
   "source": [
    "class Test:\n",
    "    def __init__(self):\n",
    "        self.a=10\n",
    "        self.b=20\n",
    "    def m(self): # m is instance method   \n",
    "        self.c=30 # instance variable inside instance method\n",
    "        \n",
    "t=Test()\n",
    "t.m()\n",
    "print(t.__dict__)\n"
   ]
  },
  {
   "cell_type": "code",
   "execution_count": 32,
   "metadata": {},
   "outputs": [],
   "source": [
    "class Test:\n",
    "    def __init__(self):\n",
    "        self.a=10\n",
    "        self.b=20\n",
    "    def m(self): # m is instance method   \n",
    "        self.c=30 # instance variable inside instance method\n",
    "        \n",
    "t=Test()\n",
    "t.m()"
   ]
  },
  {
   "cell_type": "code",
   "execution_count": 5,
   "metadata": {},
   "outputs": [
    {
     "name": "stdout",
     "output_type": "stream",
     "text": [
      "{'a': 10, 'b': 20}\n",
      "{'a': 10, 'b': 20, 'c': 30}\n"
     ]
    }
   ],
   "source": [
    "class Test:\n",
    "    def __init__(self):\n",
    "        self.a=10\n",
    "        self.b=20\n",
    "    def m(self): # m is instance method   \n",
    "        self.c=30 # instance method inside instance method\n",
    "        \n",
    "t=Test()\n",
    "t1=Test() # t1 is another object\n",
    "t.m()\n",
    "print(t1.__dict__)\n",
    "print(t.__dict__)"
   ]
  },
  {
   "cell_type": "code",
   "execution_count": 6,
   "metadata": {},
   "outputs": [
    {
     "name": "stdout",
     "output_type": "stream",
     "text": [
      "{'a': 10, 'b': 20, 'c': 30}\n",
      "{'a': 10, 'b': 20, 'c': 30}\n"
     ]
    }
   ],
   "source": [
    "class Test:\n",
    "    def __init__(self):\n",
    "        self.a=10\n",
    "        self.b=20\n",
    "    def m(self): # m is instance method   \n",
    "        self.c=30 # instance method inside instance method\n",
    "        \n",
    "t=Test()\n",
    "t1=Test() # t1 is another object\n",
    "t.m()\n",
    "t1.m()\n",
    "print(t1.__dict__)\n",
    "print(t.__dict__)"
   ]
  },
  {
   "cell_type": "markdown",
   "metadata": {},
   "source": [
    "### c. Outside of the class by using object reference variable"
   ]
  },
  {
   "cell_type": "code",
   "execution_count": 7,
   "metadata": {},
   "outputs": [
    {
     "name": "stdout",
     "output_type": "stream",
     "text": [
      "{'a': 10, 'b': 20, 'c': 30, 'd': 40}\n"
     ]
    }
   ],
   "source": [
    "class Test:\n",
    "    def __init__(self):\n",
    "        self.a=10\n",
    "        self.b=20\n",
    "    def m(self):\n",
    "        self.c=30\n",
    "        \n",
    "t=Test()\n",
    "t.m()\n",
    "t.d=40 # Outside of the class by using object reference variable\n",
    "print(t.__dict__)"
   ]
  },
  {
   "cell_type": "markdown",
   "metadata": {},
   "source": [
    "### Accessing of Instance Variables(Printing)"
   ]
  },
  {
   "cell_type": "code",
   "execution_count": null,
   "metadata": {},
   "outputs": [],
   "source": [
    "We can access instance variables:-\n",
    "    within the class & inside instance method by using self variable \n",
    "    outside the class by using object reference variable."
   ]
  },
  {
   "cell_type": "code",
   "execution_count": 10,
   "metadata": {},
   "outputs": [
    {
     "name": "stdout",
     "output_type": "stream",
     "text": [
      "10\n",
      "20\n"
     ]
    }
   ],
   "source": [
    "#accessing of instance variables from inside of the class & inside instance method\n",
    "class Test:\n",
    "    def __init__(self):\n",
    "        self.a=10\n",
    "        self.b=20\n",
    "    def m(self):\n",
    "        self.c=30\n",
    "        print(self.a)\n",
    "        print(self.b)\n",
    "        \n",
    "t=Test()\n",
    "t.m()\n",
    "\n"
   ]
  },
  {
   "cell_type": "code",
   "execution_count": 16,
   "metadata": {},
   "outputs": [
    {
     "name": "stdout",
     "output_type": "stream",
     "text": [
      "10 20\n"
     ]
    }
   ],
   "source": [
    "#accessing of instance variables from outside of the class\n",
    "class Test:\n",
    "    def __init__(self):\n",
    "        self.a=10\n",
    "        self.b=20\n",
    "    def m(self):\n",
    "        self.c=30\n",
    "        #print(self.a)\n",
    "        #print(self.b)\n",
    "        \n",
    "t=Test()\n",
    "t.m()\n",
    "print(t.a,t.b)"
   ]
  },
  {
   "cell_type": "code",
   "execution_count": 18,
   "metadata": {},
   "outputs": [
    {
     "name": "stdout",
     "output_type": "stream",
     "text": [
      "10 20\n"
     ]
    }
   ],
   "source": [
    "class Test:\n",
    "    def __init__(self):\n",
    "        self.a=10\n",
    "        self.b=20\n",
    "    def m(self):\n",
    "        self.c=30\n",
    "        #print(self.a)\n",
    "        #print(self.b)\n",
    "        \n",
    "t=Test()\n",
    "print(t.a,t.b)\n",
    "t.m()\n"
   ]
  },
  {
   "cell_type": "code",
   "execution_count": 2,
   "metadata": {},
   "outputs": [
    {
     "name": "stdout",
     "output_type": "stream",
     "text": [
      "10 20 30\n"
     ]
    }
   ],
   "source": [
    "class Test:\n",
    "    def __init__(self):\n",
    "        self.a=10\n",
    "        self.b=20\n",
    "    def m(self):\n",
    "        self.c=30\n",
    "        #print(self.a)\n",
    "        #print(self.b)\n",
    "        \n",
    "t=Test()\n",
    "t.m()\n",
    "print(t.a,t.b,t.c)"
   ]
  },
  {
   "cell_type": "markdown",
   "metadata": {},
   "source": [
    "## How to delete instance variables from the object"
   ]
  },
  {
   "cell_type": "code",
   "execution_count": null,
   "metadata": {},
   "outputs": [],
   "source": [
    "We can also delete instance variables:-\n",
    "1.Within the class with the help of self  \n",
    "syntax:\n",
    "del self.variablename \n",
    "Outside the class with the help of object reference variable \n",
    "syntax:\n",
    "del objectreferencevaraible.variablename\n"
   ]
  },
  {
   "cell_type": "code",
   "execution_count": 3,
   "metadata": {},
   "outputs": [
    {
     "name": "stdout",
     "output_type": "stream",
     "text": [
      "{'a': 10, 'b': 20, 'c': 30, 'd': 40}\n",
      "{'a': 10, 'b': 20, 'c': 30, 'd': 40, 'e': 50}\n"
     ]
    }
   ],
   "source": [
    "#eg pgm to delete instance variables from inside class and outside class\n",
    "class Test:\n",
    "    def __init__(self):\n",
    "        self.a=10\n",
    "        self.b=20\n",
    "        self.c=30\n",
    "        self.d=40\n",
    "    def m(self):\n",
    "        self.e=50\n",
    "        \n",
    "t=Test()\n",
    "print(t.__dict__)\n",
    "t.m()\n",
    "print(t.__dict__)\n"
   ]
  },
  {
   "cell_type": "code",
   "execution_count": 4,
   "metadata": {},
   "outputs": [
    {
     "name": "stdout",
     "output_type": "stream",
     "text": [
      "{'a': 10, 'b': 20, 'c': 30, 'd': 40}\n",
      "{'a': 10, 'b': 20, 'c': 30, 'd': 40, 'e': 50}\n",
      "{'a': 10, 'b': 20, 'c': 30, 'e': 50}\n"
     ]
    }
   ],
   "source": [
    "#eg pgm to delete instance variables from inside class and outside class\n",
    "class Test:\n",
    "    def __init__(self):\n",
    "        self.a=10\n",
    "        self.b=20\n",
    "        self.c=30\n",
    "        self.d=40\n",
    "    def m(self):\n",
    "        self.e=50\n",
    "        \n",
    "t=Test()\n",
    "print(t.__dict__)\n",
    "t.m()\n",
    "print(t.__dict__)\n",
    "del t.d # deleting instance variable from outside of the class with the help of object reference variable\n",
    "print(t.__dict__)\n"
   ]
  },
  {
   "cell_type": "code",
   "execution_count": 5,
   "metadata": {},
   "outputs": [
    {
     "name": "stdout",
     "output_type": "stream",
     "text": [
      "{'a': 10, 'b': 20, 'c': 30, 'd': 40}\n",
      "{'a': 10, 'b': 20, 'c': 30}\n"
     ]
    }
   ],
   "source": [
    "#eg pgm to delete instance variables from inside class and outside class\n",
    "class Test:\n",
    "    def __init__(self):\n",
    "        self.a=10\n",
    "        self.b=20\n",
    "        self.c=30\n",
    "        self.d=40\n",
    "    def m(self):\n",
    "        del self.d # deleting instance variable from inside of the class using self variable\n",
    "        \n",
    "t=Test()\n",
    "print(t.__dict__)\n",
    "t.m()\n",
    "print(t.__dict__)\n"
   ]
  },
  {
   "cell_type": "code",
   "execution_count": 6,
   "metadata": {},
   "outputs": [
    {
     "name": "stdout",
     "output_type": "stream",
     "text": [
      "{'a': 10, 'b': 20, 'd': 40}\n",
      "{'a': 10, 'b': 20, 'd': 40}\n"
     ]
    }
   ],
   "source": [
    "class Test:\n",
    "    def __init__(self):\n",
    "        self.a=10\n",
    "        self.b=20\n",
    "        self.c=30\n",
    "        self.d=40\n",
    "        del self.c\n",
    "    def m(self):\n",
    "        self.e=50\n",
    "        del self.e# deleting instance variable from inside of the class using self variable\n",
    "        \n",
    "t=Test()\n",
    "print(t.__dict__)\n",
    "t.m()\n",
    "print(t.__dict__)\n"
   ]
  },
  {
   "cell_type": "code",
   "execution_count": 8,
   "metadata": {},
   "outputs": [
    {
     "name": "stdout",
     "output_type": "stream",
     "text": [
      "{'a': 10, 'b': 20, 'd': 40}\n",
      "{'a': 10, 'b': 20, 'd': 40}\n",
      "{'a': 10, 'b': 20}\n"
     ]
    }
   ],
   "source": [
    "class Test:\n",
    "    def __init__(self):\n",
    "        self.a=10\n",
    "        self.b=20\n",
    "        self.c=30\n",
    "        self.d=40\n",
    "        del self.c\n",
    "    def m(self):\n",
    "        self.e=50\n",
    "        del self.e# deleting instance variable from inside of the class using self variable\n",
    "        \n",
    "t=Test()\n",
    "print(t.__dict__)\n",
    "t.m()\n",
    "print(t.__dict__)\n",
    "del t.d # deleting instance variable from outside of the class with the help of object reference variable\n",
    "print(t.__dict__)\n"
   ]
  },
  {
   "cell_type": "code",
   "execution_count": 9,
   "metadata": {},
   "outputs": [
    {
     "name": "stdout",
     "output_type": "stream",
     "text": [
      "{'a': 10, 'b': 20, 'c': 30, 'd': 40}\n",
      "{'a': 10, 'b': 20, 'c': 30, 'd': 40}\n",
      "{'b': 20, 'c': 30, 'd': 40}\n",
      "{'a': 10, 'b': 20, 'c': 30, 'd': 40}\n"
     ]
    }
   ],
   "source": [
    "# when we create 2 objects for same class then, a seperate copy of instance variable will be created\n",
    "class Test:\n",
    "    def __init__(self):\n",
    "        self.a=10\n",
    "        self.b=20\n",
    "        self.c=30\n",
    "        self.d=40\n",
    "    def m(self):\n",
    "        self.e=50\n",
    "        del self.e# deleting instance variable from inside of the class using self variable\n",
    "        \n",
    "t1=Test()\n",
    "t2=Test()\n",
    "print(t1.__dict__)\n",
    "print(t2.__dict__)\n",
    "del t1.a\n",
    "print(t1.__dict__)\n",
    "print(t2.__dict__)\n",
    "t1.m()\n",
    "#print(t1.__dict__)\n"
   ]
  },
  {
   "cell_type": "code",
   "execution_count": 10,
   "metadata": {},
   "outputs": [
    {
     "name": "stdout",
     "output_type": "stream",
     "text": [
      "{'a': 10, 'b': 20, 'c': 30, 'd': 40}\n",
      "{'a': 10, 'b': 20, 'c': 30, 'd': 40}\n",
      "{'a': 10, 'b': 888, 'c': 30, 'd': 40}\n",
      "{'a': 999, 'b': 20, 'c': 30, 'd': 40}\n"
     ]
    }
   ],
   "source": [
    "# when we change(modify)/delete instance variable of one object will not reflect other object\n",
    "class Test:\n",
    "    def __init__(self):\n",
    "        self.a=10\n",
    "        self.b=20\n",
    "        self.c=30\n",
    "        self.d=40\n",
    "    def m(self):\n",
    "        self.e=50\n",
    "        del self.e# deleting instance variable from inside of the class using self variable\n",
    "        \n",
    "t1=Test()\n",
    "t2=Test()\n",
    "print(t1.__dict__)\n",
    "print(t2.__dict__)\n",
    "t2.a=999\n",
    "t1.b=888\n",
    "print(t1.__dict__)\n",
    "print(t2.__dict__)\n",
    "t1.m()\n",
    "#print(t1.__dict__)\n"
   ]
  },
  {
   "cell_type": "markdown",
   "metadata": {},
   "source": [
    "## 2)Static variables(Class level variables):"
   ]
  },
  {
   "cell_type": "code",
   "execution_count": null,
   "metadata": {},
   "outputs": [],
   "source": [
    "if the value of the variable is not varied from object to object then, it is called as static variable.\n",
    "static variables can be declared/ created inside class but outside of inner methods.\n",
    "we can access static variables in 2 ways:\n",
    "    a. with class name\n",
    "    b. with object reference variable"
   ]
  },
  {
   "cell_type": "code",
   "execution_count": 11,
   "metadata": {},
   "outputs": [
    {
     "name": "stdout",
     "output_type": "stream",
     "text": [
      "10 20\n",
      "10 20\n",
      "888 999\n",
      "888 20\n"
     ]
    }
   ],
   "source": [
    "class Test:\n",
    "    x=10 #static variable\n",
    "    def __init__(self):\n",
    "        self.y=20 # instance variable\n",
    "        \n",
    "t1=Test()\n",
    "t2=Test()\n",
    "print(t1.x,t1.y)\n",
    "print(t2.x,t2.y)\n",
    "Test.x=888\n",
    "t1.y=999\n",
    "print(t1.x,t1.y)\n",
    "print(t2.x,t2.y)\n",
    "\n",
    "\n",
    "        \n",
    "        "
   ]
  },
  {
   "cell_type": "markdown",
   "metadata": {},
   "source": [
    "## Declaring of static variables in different places:"
   ]
  },
  {
   "cell_type": "code",
   "execution_count": null,
   "metadata": {},
   "outputs": [],
   "source": [
    "We declare static variables \n",
    "1.inside the class but outside of the methods\n",
    "2.Inside of the constructor by using classname\n",
    "3.Inside of instance method by using classname \n",
    "4.Inside class method using either class name or class variable\n",
    "5.Inside static method by using cls name"
   ]
  },
  {
   "cell_type": "markdown",
   "metadata": {},
   "source": [
    "### 1. inside the class but outside of the methods"
   ]
  },
  {
   "cell_type": "code",
   "execution_count": 16,
   "metadata": {},
   "outputs": [
    {
     "name": "stdout",
     "output_type": "stream",
     "text": [
      "10 20\n",
      "10 20\n",
      "888 999\n",
      "888 20\n"
     ]
    }
   ],
   "source": [
    "class Test:\n",
    "    x=10 #static variable\n",
    "    def __init__(self):\n",
    "        self.y=20 # instance variable\n",
    "        \n",
    "t1=Test()\n",
    "t2=Test()\n",
    "print(t1.x,t1.y)\n",
    "print(t2.x,t2.y)\n",
    "Test.x=888\n",
    "t1.y=999\n",
    "print(t1.x,t1.y)\n",
    "print(t2.x,t2.y)"
   ]
  },
  {
   "cell_type": "code",
   "execution_count": 14,
   "metadata": {},
   "outputs": [
    {
     "name": "stdout",
     "output_type": "stream",
     "text": [
      "{'__module__': '__main__', 'a': 10, '__init__': <function Test.__init__ at 0x000001BA341AD828>, 'm1': <function Test.m1 at 0x000001BA341AD8B8>, 'm2': <classmethod object at 0x000001BA341ACFC8>, 'm3': <staticmethod object at 0x000001BA341A9388>, '__dict__': <attribute '__dict__' of 'Test' objects>, '__weakref__': <attribute '__weakref__' of 'Test' objects>, '__doc__': None}\n",
      "{'__module__': '__main__', 'a': 10, '__init__': <function Test.__init__ at 0x000001BA341AD828>, 'm1': <function Test.m1 at 0x000001BA341AD8B8>, 'm2': <classmethod object at 0x000001BA341ACFC8>, 'm3': <staticmethod object at 0x000001BA341A9388>, '__dict__': <attribute '__dict__' of 'Test' objects>, '__weakref__': <attribute '__weakref__' of 'Test' objects>, '__doc__': None, 'b': 20}\n",
      "{'__module__': '__main__', 'a': 10, '__init__': <function Test.__init__ at 0x000001BA341AD828>, 'm1': <function Test.m1 at 0x000001BA341AD8B8>, 'm2': <classmethod object at 0x000001BA341ACFC8>, 'm3': <staticmethod object at 0x000001BA341A9388>, '__dict__': <attribute '__dict__' of 'Test' objects>, '__weakref__': <attribute '__weakref__' of 'Test' objects>, '__doc__': None, 'b': 20, 'c': 30}\n"
     ]
    }
   ],
   "source": [
    "#example pgm for static variable in different places\n",
    "class Test:\n",
    "    a=10 # inside class but outside of methods\n",
    "    def __init__(self):\n",
    "        Test.b=20 # inside constructor by using cls name\n",
    "    def m1(self):\n",
    "        Test.c=30 # inside instance method by using cls name\n",
    "    @classmethod\n",
    "    def m2(cls):\n",
    "        cls.d=40 # inside of class method by using cls variable\n",
    "        Test.e=50 # inside class method using either class name or class variable\n",
    "    @staticmethod\n",
    "    def m3():\n",
    "        Test.f=60 # inside static method by using cls name\n",
    "        \n",
    "print(Test.__dict__)\n",
    "t=Test()\n",
    "print(Test.__dict__)\n",
    "t.m1()\n",
    "print(Test.__dict__)\n",
    "t.m2()\n",
    "t.m3()\n",
    "Test.g=60\n"
   ]
  },
  {
   "cell_type": "code",
   "execution_count": 15,
   "metadata": {},
   "outputs": [
    {
     "name": "stdout",
     "output_type": "stream",
     "text": [
      "{'__module__': '__main__', 'a': 10, '__init__': <function Test.__init__ at 0x000001BA341AD798>, 'm1': <function Test.m1 at 0x000001BA341ADDC8>, 'm2': <classmethod object at 0x000001BA341A9B48>, 'm3': <staticmethod object at 0x000001BA341A9D88>, '__dict__': <attribute '__dict__' of 'Test' objects>, '__weakref__': <attribute '__weakref__' of 'Test' objects>, '__doc__': None}\n",
      "{'__module__': '__main__', 'a': 10, '__init__': <function Test.__init__ at 0x000001BA341AD798>, 'm1': <function Test.m1 at 0x000001BA341ADDC8>, 'm2': <classmethod object at 0x000001BA341A9B48>, 'm3': <staticmethod object at 0x000001BA341A9D88>, '__dict__': <attribute '__dict__' of 'Test' objects>, '__weakref__': <attribute '__weakref__' of 'Test' objects>, '__doc__': None, 'b': 20}\n",
      "{'__module__': '__main__', 'a': 10, '__init__': <function Test.__init__ at 0x000001BA341AD798>, 'm1': <function Test.m1 at 0x000001BA341ADDC8>, 'm2': <classmethod object at 0x000001BA341A9B48>, 'm3': <staticmethod object at 0x000001BA341A9D88>, '__dict__': <attribute '__dict__' of 'Test' objects>, '__weakref__': <attribute '__weakref__' of 'Test' objects>, '__doc__': None, 'b': 20, 'c': 30}\n"
     ]
    },
    {
     "ename": "NameError",
     "evalue": "name 'self' is not defined",
     "output_type": "error",
     "traceback": [
      "\u001b[1;31m---------------------------------------------------------------------------\u001b[0m",
      "\u001b[1;31mNameError\u001b[0m                                 Traceback (most recent call last)",
      "\u001b[1;32m<ipython-input-15-4158b52021e2>\u001b[0m in \u001b[0;36m<module>\u001b[1;34m\u001b[0m\n\u001b[0;32m     20\u001b[0m \u001b[0mt\u001b[0m\u001b[1;33m.\u001b[0m\u001b[0mm1\u001b[0m\u001b[1;33m(\u001b[0m\u001b[1;33m)\u001b[0m\u001b[1;33m\u001b[0m\u001b[1;33m\u001b[0m\u001b[0m\n\u001b[0;32m     21\u001b[0m \u001b[0mprint\u001b[0m\u001b[1;33m(\u001b[0m\u001b[0mTest\u001b[0m\u001b[1;33m.\u001b[0m\u001b[0m__dict__\u001b[0m\u001b[1;33m)\u001b[0m\u001b[1;33m\u001b[0m\u001b[1;33m\u001b[0m\u001b[0m\n\u001b[1;32m---> 22\u001b[1;33m \u001b[0mt\u001b[0m\u001b[1;33m.\u001b[0m\u001b[0mm2\u001b[0m\u001b[1;33m(\u001b[0m\u001b[1;33m)\u001b[0m\u001b[1;33m\u001b[0m\u001b[1;33m\u001b[0m\u001b[0m\n\u001b[0m\u001b[0;32m     23\u001b[0m \u001b[0mt\u001b[0m\u001b[1;33m.\u001b[0m\u001b[0mm3\u001b[0m\u001b[1;33m(\u001b[0m\u001b[1;33m)\u001b[0m\u001b[1;33m\u001b[0m\u001b[1;33m\u001b[0m\u001b[0m\n\u001b[0;32m     24\u001b[0m \u001b[0mTest\u001b[0m\u001b[1;33m.\u001b[0m\u001b[0mg\u001b[0m\u001b[1;33m=\u001b[0m\u001b[1;36m60\u001b[0m\u001b[1;33m\u001b[0m\u001b[1;33m\u001b[0m\u001b[0m\n",
      "\u001b[1;32m<ipython-input-15-4158b52021e2>\u001b[0m in \u001b[0;36mm2\u001b[1;34m(cls)\u001b[0m\n\u001b[0;32m      8\u001b[0m     \u001b[1;33m@\u001b[0m\u001b[0mclassmethod\u001b[0m\u001b[1;33m\u001b[0m\u001b[1;33m\u001b[0m\u001b[0m\n\u001b[0;32m      9\u001b[0m     \u001b[1;32mdef\u001b[0m \u001b[0mm2\u001b[0m\u001b[1;33m(\u001b[0m\u001b[0mcls\u001b[0m\u001b[1;33m)\u001b[0m\u001b[1;33m:\u001b[0m\u001b[1;33m\u001b[0m\u001b[1;33m\u001b[0m\u001b[0m\n\u001b[1;32m---> 10\u001b[1;33m         \u001b[0mself\u001b[0m\u001b[1;33m.\u001b[0m\u001b[0md\u001b[0m\u001b[1;33m=\u001b[0m\u001b[1;36m40\u001b[0m \u001b[1;31m#error occurs when we use self varaible\u001b[0m\u001b[1;33m\u001b[0m\u001b[1;33m\u001b[0m\u001b[0m\n\u001b[0m\u001b[0;32m     11\u001b[0m         \u001b[1;31m#cls.d=40 # inside of class method by using cls variable\u001b[0m\u001b[1;33m\u001b[0m\u001b[1;33m\u001b[0m\u001b[1;33m\u001b[0m\u001b[0m\n\u001b[0;32m     12\u001b[0m         \u001b[0mTest\u001b[0m\u001b[1;33m.\u001b[0m\u001b[0me\u001b[0m\u001b[1;33m=\u001b[0m\u001b[1;36m50\u001b[0m \u001b[1;31m# inside class method using either class name or class variable\u001b[0m\u001b[1;33m\u001b[0m\u001b[1;33m\u001b[0m\u001b[0m\n",
      "\u001b[1;31mNameError\u001b[0m: name 'self' is not defined"
     ]
    }
   ],
   "source": [
    "#example pgm for static variable in different places\n",
    "class Test:\n",
    "    a=10 # inside class but outside of methods\n",
    "    def __init__(self):\n",
    "        Test.b=20 # inside constructor by using cls name\n",
    "    def m1(self):\n",
    "        Test.c=30 # inside instance method by using cls name\n",
    "    @classmethod\n",
    "    def m2(cls):\n",
    "        self.d=40 #error occurs when we use self varaible\n",
    "        #cls.d=40 # inside of class method by using cls variable\n",
    "        Test.e=50 # inside class method using either class name or class variable\n",
    "    @staticmethod\n",
    "    def m3():\n",
    "        Test.f=60 # inside static method by using cls name\n",
    "        \n",
    "print(Test.__dict__)\n",
    "t=Test()\n",
    "print(Test.__dict__)\n",
    "t.m1()\n",
    "print(Test.__dict__)\n",
    "t.m2()\n",
    "t.m3()\n",
    "Test.g=60\n"
   ]
  },
  {
   "cell_type": "markdown",
   "metadata": {},
   "source": [
    "## Accessing of Static variables:"
   ]
  },
  {
   "cell_type": "code",
   "execution_count": null,
   "metadata": {
    "collapsed": true
   },
   "outputs": [],
   "source": [
    "1. inside of constructor: by using  cls name or self variable\n",
    "\n",
    "2. inside of instance method: by using cls name or self variable\n",
    "    \n",
    "3. inside classmethod: by using cls name or cls variable\n",
    "    \n",
    "4. inside staticmethod: by using clsname\n",
    "    \n",
    "5. outside of class: by using clsname or object reference variable    "
   ]
  },
  {
   "cell_type": "code",
   "execution_count": 18,
   "metadata": {},
   "outputs": [
    {
     "name": "stdout",
     "output_type": "stream",
     "text": [
      "inside constructor with self: 10\n",
      "inside constructor with classname: 10\n",
      "outside of class using object reference variable: 10\n",
      "outside of class using class name: 10\n",
      "inside instance method with self: 10\n",
      "inside instance method with clsname: 10\n",
      "inside class method with cls variable: 10\n",
      "inside class method with cls name: 10\n",
      "inside static method with cls name: 10\n"
     ]
    }
   ],
   "source": [
    "#eg pgm\n",
    "class Test:\n",
    "    a=10\n",
    "    def __init__(self):\n",
    "        print(\"inside constructor with self:\",self.a)\n",
    "        print(\"inside constructor with classname:\",Test.a)\n",
    "    def m1(self):\n",
    "        print(\"inside instance method with self:\",self.a)\n",
    "        print(\"inside instance method with clsname:\",Test.a)\n",
    "    @classmethod\n",
    "    def m2(cls):\n",
    "        print(\"inside class method with cls variable:\",cls.a)\n",
    "        print(\"inside class method with cls name:\",Test.a)\n",
    "    @staticmethod\n",
    "    def m3():\n",
    "        print(\"inside static method with cls name:\",Test.a)\n",
    "    \n",
    "t=Test()\n",
    "print(\"outside of class using object reference variable:\",t.a)\n",
    "print(\"outside of class using class name:\",Test.a)\n",
    "\n",
    "t.m1()\n",
    "t.m2()\n",
    "t.m3()\n"
   ]
  },
  {
   "cell_type": "markdown",
   "metadata": {},
   "source": [
    "## modifying the values of static variable in different places:"
   ]
  },
  {
   "cell_type": "code",
   "execution_count": 23,
   "metadata": {},
   "outputs": [
    {
     "name": "stdout",
     "output_type": "stream",
     "text": [
      "10\n",
      "modified value of a inside constructor: 888\n",
      "modified value of a inside constructor: 999\n",
      "modified value of a inside constructor: 666\n",
      "666\n"
     ]
    }
   ],
   "source": [
    "#when we want to modify value of static variable anywhere in the cls or outside of the class with the help of cls name except \n",
    "#inside of cls method,inside cls method with cls variable we can modify the value of static variable.\n",
    "class Test:\n",
    "    a=10\n",
    "    def __init__(self):\n",
    "        Test.a=666\n",
    "        print(\"modified value of a inside constructor:\",Test.a)\n",
    "    @classmethod\n",
    "    def m1(cls):\n",
    "        cls.a=888\n",
    "        print(\"modified value of a inside constructor:\",cls.a)\n",
    "    @staticmethod\n",
    "    def m2():\n",
    "        Test.a=999\n",
    "        print(\"modified value of a inside constructor:\",Test.a)\n",
    "        \n",
    "print(Test.a)\n",
    "Test.m1()\n",
    "Test.m2()\n",
    "t=Test()\n",
    "print(Test.a)\n",
    "        "
   ]
  },
  {
   "cell_type": "markdown",
   "metadata": {},
   "source": [
    "## How to delete static variables of class:"
   ]
  },
  {
   "cell_type": "code",
   "execution_count": 24,
   "metadata": {},
   "outputs": [
    {
     "name": "stdout",
     "output_type": "stream",
     "text": [
      "10\n"
     ]
    }
   ],
   "source": [
    "class Test:\n",
    "    a=10\n",
    "    def __init__(self):\n",
    "        del Test.a\n",
    "print(Test.a)        "
   ]
  },
  {
   "cell_type": "code",
   "execution_count": 25,
   "metadata": {},
   "outputs": [
    {
     "name": "stdout",
     "output_type": "stream",
     "text": [
      "10\n"
     ]
    }
   ],
   "source": [
    "# deletion of static variable inside constructor using cls name\n",
    "class Test:\n",
    "    a=10\n",
    "    def __init__(self):\n",
    "        del Test.a\n",
    "print(Test.a) \n",
    "t=Test()\n"
   ]
  },
  {
   "cell_type": "code",
   "execution_count": 26,
   "metadata": {},
   "outputs": [
    {
     "name": "stdout",
     "output_type": "stream",
     "text": [
      "10\n"
     ]
    },
    {
     "ename": "AttributeError",
     "evalue": "type object 'Test' has no attribute 'a'",
     "output_type": "error",
     "traceback": [
      "\u001b[1;31m---------------------------------------------------------------------------\u001b[0m",
      "\u001b[1;31mAttributeError\u001b[0m                            Traceback (most recent call last)",
      "\u001b[1;32m<ipython-input-26-dd9198026feb>\u001b[0m in \u001b[0;36m<module>\u001b[1;34m\u001b[0m\n\u001b[0;32m      5\u001b[0m \u001b[0mprint\u001b[0m\u001b[1;33m(\u001b[0m\u001b[0mTest\u001b[0m\u001b[1;33m.\u001b[0m\u001b[0ma\u001b[0m\u001b[1;33m)\u001b[0m\u001b[1;33m\u001b[0m\u001b[1;33m\u001b[0m\u001b[0m\n\u001b[0;32m      6\u001b[0m \u001b[0mt\u001b[0m\u001b[1;33m=\u001b[0m\u001b[0mTest\u001b[0m\u001b[1;33m(\u001b[0m\u001b[1;33m)\u001b[0m\u001b[1;33m\u001b[0m\u001b[1;33m\u001b[0m\u001b[0m\n\u001b[1;32m----> 7\u001b[1;33m \u001b[0mprint\u001b[0m\u001b[1;33m(\u001b[0m\u001b[0mTest\u001b[0m\u001b[1;33m.\u001b[0m\u001b[0ma\u001b[0m\u001b[1;33m)\u001b[0m\u001b[1;33m\u001b[0m\u001b[1;33m\u001b[0m\u001b[0m\n\u001b[0m",
      "\u001b[1;31mAttributeError\u001b[0m: type object 'Test' has no attribute 'a'"
     ]
    }
   ],
   "source": [
    "# deletion of static variable inside constructor using cls name\n",
    "class Test:\n",
    "    a=10\n",
    "    def __init__(self):\n",
    "        del Test.a\n",
    "print(Test.a)\n",
    "t=Test()\n",
    "print(Test.a) # occurs error b/c already a value is deleted inside constructor"
   ]
  },
  {
   "cell_type": "code",
   "execution_count": 30,
   "metadata": {},
   "outputs": [
    {
     "name": "stdout",
     "output_type": "stream",
     "text": [
      "10\n"
     ]
    },
    {
     "ename": "AttributeError",
     "evalue": "'Test' object has no attribute 'a'",
     "output_type": "error",
     "traceback": [
      "\u001b[1;31m---------------------------------------------------------------------------\u001b[0m",
      "\u001b[1;31mAttributeError\u001b[0m                            Traceback (most recent call last)",
      "\u001b[1;32m<ipython-input-30-aba21acc5cfa>\u001b[0m in \u001b[0;36m<module>\u001b[1;34m\u001b[0m\n\u001b[0;32m      8\u001b[0m \u001b[0mt\u001b[0m\u001b[1;33m=\u001b[0m\u001b[0mTest\u001b[0m\u001b[1;33m(\u001b[0m\u001b[1;33m)\u001b[0m\u001b[1;33m\u001b[0m\u001b[1;33m\u001b[0m\u001b[0m\n\u001b[0;32m      9\u001b[0m \u001b[0mt\u001b[0m\u001b[1;33m.\u001b[0m\u001b[0mm\u001b[0m\u001b[1;33m(\u001b[0m\u001b[1;33m)\u001b[0m\u001b[1;33m\u001b[0m\u001b[1;33m\u001b[0m\u001b[0m\n\u001b[1;32m---> 10\u001b[1;33m \u001b[0mprint\u001b[0m\u001b[1;33m(\u001b[0m\u001b[0mt\u001b[0m\u001b[1;33m.\u001b[0m\u001b[0ma\u001b[0m\u001b[1;33m)\u001b[0m\u001b[1;33m\u001b[0m\u001b[1;33m\u001b[0m\u001b[0m\n\u001b[0m",
      "\u001b[1;31mAttributeError\u001b[0m: 'Test' object has no attribute 'a'"
     ]
    }
   ],
   "source": [
    "# deletion of static variable inside of instance method using cls name\n",
    "class Test:\n",
    "    a=10\n",
    "    def __init__(self):\n",
    "        self.b=20\n",
    "    def m(self):\n",
    "        del Test.a\n",
    "print(Test.a)\n",
    "t=Test()\n",
    "t.m()\n",
    "print(t.a)"
   ]
  },
  {
   "cell_type": "code",
   "execution_count": 32,
   "metadata": {},
   "outputs": [
    {
     "name": "stdout",
     "output_type": "stream",
     "text": [
      "10\n"
     ]
    },
    {
     "ename": "AttributeError",
     "evalue": "'Test' object has no attribute 'a'",
     "output_type": "error",
     "traceback": [
      "\u001b[1;31m---------------------------------------------------------------------------\u001b[0m",
      "\u001b[1;31mAttributeError\u001b[0m                            Traceback (most recent call last)",
      "\u001b[1;32m<ipython-input-32-7b8bfb9c6e3f>\u001b[0m in \u001b[0;36m<module>\u001b[1;34m\u001b[0m\n\u001b[0;32m      8\u001b[0m \u001b[0mt\u001b[0m\u001b[1;33m=\u001b[0m\u001b[0mTest\u001b[0m\u001b[1;33m(\u001b[0m\u001b[1;33m)\u001b[0m\u001b[1;33m\u001b[0m\u001b[1;33m\u001b[0m\u001b[0m\n\u001b[0;32m      9\u001b[0m \u001b[0mt\u001b[0m\u001b[1;33m.\u001b[0m\u001b[0mm\u001b[0m\u001b[1;33m(\u001b[0m\u001b[1;33m)\u001b[0m\u001b[1;33m\u001b[0m\u001b[1;33m\u001b[0m\u001b[0m\n\u001b[1;32m---> 10\u001b[1;33m \u001b[0mprint\u001b[0m\u001b[1;33m(\u001b[0m\u001b[0mt\u001b[0m\u001b[1;33m.\u001b[0m\u001b[0ma\u001b[0m\u001b[1;33m)\u001b[0m\u001b[1;33m\u001b[0m\u001b[1;33m\u001b[0m\u001b[0m\n\u001b[0m",
      "\u001b[1;31mAttributeError\u001b[0m: 'Test' object has no attribute 'a'"
     ]
    }
   ],
   "source": [
    "#deletion of static variable inside clsmethod using cls variable\n",
    "class Test:\n",
    "    a=10\n",
    "    @classmethod\n",
    "    def m(cls):\n",
    "        del cls.a\n",
    "print(Test.a)\n",
    "t=Test()\n",
    "t.m()\n",
    "print(t.a)"
   ]
  },
  {
   "cell_type": "code",
   "execution_count": 31,
   "metadata": {},
   "outputs": [
    {
     "name": "stdout",
     "output_type": "stream",
     "text": [
      "10\n"
     ]
    },
    {
     "ename": "AttributeError",
     "evalue": "'Test' object has no attribute 'a'",
     "output_type": "error",
     "traceback": [
      "\u001b[1;31m---------------------------------------------------------------------------\u001b[0m",
      "\u001b[1;31mAttributeError\u001b[0m                            Traceback (most recent call last)",
      "\u001b[1;32m<ipython-input-31-51766f6a6799>\u001b[0m in \u001b[0;36m<module>\u001b[1;34m\u001b[0m\n\u001b[0;32m      8\u001b[0m \u001b[0mt\u001b[0m\u001b[1;33m=\u001b[0m\u001b[0mTest\u001b[0m\u001b[1;33m(\u001b[0m\u001b[1;33m)\u001b[0m\u001b[1;33m\u001b[0m\u001b[1;33m\u001b[0m\u001b[0m\n\u001b[0;32m      9\u001b[0m \u001b[0mt\u001b[0m\u001b[1;33m.\u001b[0m\u001b[0mm\u001b[0m\u001b[1;33m(\u001b[0m\u001b[1;33m)\u001b[0m\u001b[1;33m\u001b[0m\u001b[1;33m\u001b[0m\u001b[0m\n\u001b[1;32m---> 10\u001b[1;33m \u001b[0mprint\u001b[0m\u001b[1;33m(\u001b[0m\u001b[0mt\u001b[0m\u001b[1;33m.\u001b[0m\u001b[0ma\u001b[0m\u001b[1;33m)\u001b[0m\u001b[1;33m\u001b[0m\u001b[1;33m\u001b[0m\u001b[0m\n\u001b[0m",
      "\u001b[1;31mAttributeError\u001b[0m: 'Test' object has no attribute 'a'"
     ]
    }
   ],
   "source": [
    "#deletion of static variable inside clsmethod using cls variable\n",
    "class Test:\n",
    "    a=10\n",
    "    @staticmethod\n",
    "    def m():\n",
    "        del Test.a\n",
    "print(Test.a)\n",
    "t=Test()\n",
    "t.m()\n",
    "print(t.a)"
   ]
  },
  {
   "cell_type": "code",
   "execution_count": null,
   "metadata": {},
   "outputs": [],
   "source": []
  }
 ],
 "metadata": {
  "kernelspec": {
   "display_name": "Python 3",
   "language": "python",
   "name": "python3"
  },
  "language_info": {
   "codemirror_mode": {
    "name": "ipython",
    "version": 3
   },
   "file_extension": ".py",
   "mimetype": "text/x-python",
   "name": "python",
   "nbconvert_exporter": "python",
   "pygments_lexer": "ipython3",
   "version": "3.7.4"
  }
 },
 "nbformat": 4,
 "nbformat_minor": 2
}
